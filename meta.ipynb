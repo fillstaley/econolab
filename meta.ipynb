{
 "cells": [
  {
   "cell_type": "code",
   "execution_count": 1,
   "id": "f7a71bbf",
   "metadata": {},
   "outputs": [
    {
     "data": {
      "text/plain": [
       "{'bar', 'foo'}"
      ]
     },
     "execution_count": 1,
     "metadata": {},
     "output_type": "execute_result"
    }
   ],
   "source": [
    "class MyMeta(type):\n",
    "    def __new__(meta, name, bases, namespace):\n",
    "        # for attr in namespace.get(\"__readonly__\", []):\n",
    "        #     value = namespace.get(attr)\n",
    "        #     namespace[attr] = property(lambda self: value)\n",
    "\n",
    "        cls = super().__new__(meta, name, bases, namespace)\n",
    "\n",
    "        readonly = set()\n",
    "        for base in reversed(cls.__mro__):\n",
    "            readonly.update(getattr(base, \"__readonly__\", []))\n",
    "\n",
    "        for attr in readonly:\n",
    "            value = namespace[attr] if attr in namespace else getattr(cls, attr, None)\n",
    "            setattr(cls, attr, property(lambda self: value))\n",
    "\n",
    "        cls.__readonly__ = readonly\n",
    "        return cls\n",
    "    \n",
    "    # def __setattr__(cls, name, value):\n",
    "    #     if name in cls.__readonly__:\n",
    "    #         raise AttributeError(f\"{name} is a readonly attribute.\")\n",
    "    #     super().__setattr__(name, value)\n",
    "\n",
    "\n",
    "class A(metaclass=MyMeta):\n",
    "    __readonly__ = [\"foo\"]\n",
    "    \n",
    "    foo = 42\n",
    "\n",
    "class B(A):\n",
    "    __readonly__ = [\"bar\"]\n",
    "    \n",
    "    bar = \"hello there\"\n",
    "\n",
    "class C:\n",
    "    pass\n",
    "\n",
    "class D(C, B):\n",
    "    __readonly__ = [\"gaz\"]\n",
    "    \n",
    "    gaz = 0\n",
    "\n",
    "b = B()\n",
    "\n",
    "b.__readonly__"
   ]
  },
  {
   "cell_type": "code",
   "execution_count": 2,
   "id": "9cb596ca",
   "metadata": {},
   "outputs": [
    {
     "data": {
      "text/plain": [
       "{'bar', 'foo', 'gaz'}"
      ]
     },
     "execution_count": 2,
     "metadata": {},
     "output_type": "execute_result"
    }
   ],
   "source": [
    "D.__readonly__"
   ]
  },
  {
   "cell_type": "code",
   "execution_count": 3,
   "id": "28385f6a",
   "metadata": {},
   "outputs": [
    {
     "data": {
      "text/plain": [
       "'hello there'"
      ]
     },
     "execution_count": 3,
     "metadata": {},
     "output_type": "execute_result"
    }
   ],
   "source": [
    "b.bar"
   ]
  },
  {
   "cell_type": "code",
   "execution_count": 4,
   "id": "05bbc8c9",
   "metadata": {},
   "outputs": [
    {
     "name": "stdout",
     "output_type": "stream",
     "text": [
      "can't modify 'bar' attribute\n"
     ]
    }
   ],
   "source": [
    "try:\n",
    "    b.bar = \"hello\"\n",
    "except Exception:\n",
    "    print(\"can't modify 'bar' attribute\")"
   ]
  },
  {
   "cell_type": "code",
   "execution_count": 5,
   "id": "03c5230b",
   "metadata": {},
   "outputs": [
    {
     "data": {
      "text/plain": [
       "'hello there'"
      ]
     },
     "execution_count": 5,
     "metadata": {},
     "output_type": "execute_result"
    }
   ],
   "source": [
    "b.bar"
   ]
  },
  {
   "cell_type": "code",
   "execution_count": 6,
   "id": "c2839df1",
   "metadata": {},
   "outputs": [
    {
     "data": {
      "text/plain": [
       "<property at 0x1061da930>"
      ]
     },
     "execution_count": 6,
     "metadata": {},
     "output_type": "execute_result"
    }
   ],
   "source": [
    "B.bar"
   ]
  },
  {
   "cell_type": "code",
   "execution_count": 7,
   "id": "8a862418",
   "metadata": {},
   "outputs": [],
   "source": [
    "try:\n",
    "    B.bar = \"hello\"\n",
    "except Exception:\n",
    "    print(\"can't modify 'bar' attribute\")"
   ]
  },
  {
   "cell_type": "code",
   "execution_count": 8,
   "id": "a719e2ba",
   "metadata": {},
   "outputs": [],
   "source": [
    "try:\n",
    "    setattr(B, \"bar\", \"hello\")\n",
    "except Exception:\n",
    "    print(\"can't modify 'bar' attribute\")"
   ]
  },
  {
   "cell_type": "code",
   "execution_count": 9,
   "id": "de0f91ed",
   "metadata": {},
   "outputs": [
    {
     "name": "stdout",
     "output_type": "stream",
     "text": [
      "can't modify 'bar' attribute\n"
     ]
    }
   ],
   "source": [
    "try:\n",
    "    object.__setattr__(B, \"bar\", \"hello\")\n",
    "except Exception:\n",
    "    print(\"can't modify 'bar' attribute\")"
   ]
  },
  {
   "cell_type": "code",
   "execution_count": 10,
   "id": "c8fd9caf",
   "metadata": {},
   "outputs": [
    {
     "data": {
      "text/plain": [
       "'hello'"
      ]
     },
     "execution_count": 10,
     "metadata": {},
     "output_type": "execute_result"
    }
   ],
   "source": [
    "b.bar"
   ]
  },
  {
   "cell_type": "code",
   "execution_count": 11,
   "id": "fb64fd87",
   "metadata": {},
   "outputs": [
    {
     "data": {
      "text/plain": [
       "{}"
      ]
     },
     "execution_count": 11,
     "metadata": {},
     "output_type": "execute_result"
    }
   ],
   "source": [
    "b.__dict__"
   ]
  },
  {
   "cell_type": "code",
   "execution_count": 12,
   "id": "18e12a00",
   "metadata": {},
   "outputs": [],
   "source": [
    "b.__dict__[\"bar\"] = \"hello\""
   ]
  },
  {
   "cell_type": "code",
   "execution_count": 13,
   "id": "e6fcb10f",
   "metadata": {},
   "outputs": [
    {
     "data": {
      "text/plain": [
       "'hello'"
      ]
     },
     "execution_count": 13,
     "metadata": {},
     "output_type": "execute_result"
    }
   ],
   "source": [
    "b.bar"
   ]
  },
  {
   "cell_type": "code",
   "execution_count": 14,
   "id": "8d9150c0",
   "metadata": {},
   "outputs": [],
   "source": [
    "b.__dict__[\"gaz\"] = 0"
   ]
  },
  {
   "cell_type": "code",
   "execution_count": 15,
   "id": "cffb33ad",
   "metadata": {},
   "outputs": [
    {
     "data": {
      "text/plain": [
       "{'bar': 'hello', 'gaz': 0}"
      ]
     },
     "execution_count": 15,
     "metadata": {},
     "output_type": "execute_result"
    }
   ],
   "source": [
    "b.__dict__"
   ]
  },
  {
   "cell_type": "code",
   "execution_count": null,
   "id": "822d3902",
   "metadata": {},
   "outputs": [],
   "source": []
  }
 ],
 "metadata": {
  "kernelspec": {
   "display_name": ".venv",
   "language": "python",
   "name": "python3"
  },
  "language_info": {
   "codemirror_mode": {
    "name": "ipython",
    "version": 3
   },
   "file_extension": ".py",
   "mimetype": "text/x-python",
   "name": "python",
   "nbconvert_exporter": "python",
   "pygments_lexer": "ipython3",
   "version": "3.13.2"
  }
 },
 "nbformat": 4,
 "nbformat_minor": 5
}
