{
 "cells": [
  {
   "cell_type": "code",
   "execution_count": 1,
   "id": "f7a71bbf",
   "metadata": {},
   "outputs": [
    {
     "data": {
      "text/plain": [
       "{'bar', 'foo', 'gaz'}"
      ]
     },
     "execution_count": 1,
     "metadata": {},
     "output_type": "execute_result"
    }
   ],
   "source": [
    "class class_constant(property):\n",
    "    __slots__ = (\"name\",)\n",
    "    \n",
    "    def __get__(self, instance, owner=None):\n",
    "        if instance is None:\n",
    "            instance = owner\n",
    "        return super().__get__(instance, owner)\n",
    "    \n",
    "    def __set__(self, instance, value):\n",
    "        raise AttributeError(\n",
    "            f\"{self} of '{type(instance).__name__}' object cannot be modified.\"\n",
    "        )\n",
    "    \n",
    "    def __delete__(self, instance):\n",
    "        raise AttributeError(\n",
    "            f\"{self} of '{type(instance).__name__}' object cannot be deleted.\"\n",
    "        )\n",
    "    \n",
    "    def __set_name__(self, owner, name):\n",
    "        self.name = name\n",
    "    \n",
    "    def __init__(self, fget, doc = None):\n",
    "        super().__init__(\n",
    "            fget, fset=None, fdel=None, doc=doc or getattr(fget, \"__doc__\", None)\n",
    "        )\n",
    "        self.name = None\n",
    "    \n",
    "    def __repr__(self):\n",
    "        return f\"class constant '{self.name}'\"\n",
    "\n",
    "\n",
    "class MyMeta(type):\n",
    "    def __new__(meta, name, bases, namespace):\n",
    "        # extract user-specified constant attributes; make them class_constants\n",
    "        constant_attrs = set(namespace.pop(\"__constant_attrs__\", set()))\n",
    "        for attr in constant_attrs:\n",
    "            if isinstance(namespace.get(attr), class_constant):\n",
    "                continue  # already handled via @-decorator\n",
    "            value = namespace.pop(attr, None)\n",
    "            namespace[attr] = meta._make_class_constant(value)\n",
    "        \n",
    "        cls = super().__new__(meta, name, bases, namespace)\n",
    "        \n",
    "        # add missing class_constants and those from parent classes\n",
    "        for attr, val in cls.__dict__.items():\n",
    "            if isinstance(val, class_constant):\n",
    "                constant_attrs.add(attr)\n",
    "        for base in cls.__mro__:\n",
    "            constant_attrs.update(getattr(base, \"__constants__\", set()))\n",
    "        \n",
    "        cls.__constants__ = set(constant_attrs)\n",
    "        return cls\n",
    "    \n",
    "    def __setattr__(cls, name, value):\n",
    "        if cls._is_class_constant(name, cls.__mro__):\n",
    "            raise AttributeError(\n",
    "                f\"Cannot modify class constant '{cls.__name__}.{name}'.\"\n",
    "            )\n",
    "        super().__setattr__(name, value)\n",
    "    \n",
    "    def __delattr__(cls, name):\n",
    "        if cls._is_class_constant(name, cls.__mro__):\n",
    "            raise AttributeError(\n",
    "                f\"Cannot delete class constant '{cls.__name__}.{name}'.\"\n",
    "            )\n",
    "        return super().__delattr__(name)\n",
    "    \n",
    "    @staticmethod\n",
    "    def _make_class_constant(value):\n",
    "        return class_constant(lambda _: value)\n",
    "    \n",
    "    @staticmethod\n",
    "    def _is_class_constant(name, classes):\n",
    "        for cls in classes:\n",
    "            attr = cls.__dict__.get(name, None)\n",
    "            if isinstance(attr, class_constant):\n",
    "                return True\n",
    "        return False\n",
    "\n",
    "\n",
    "class A(metaclass=MyMeta):\n",
    "    __constant_attrs__ = {\"foo\"}\n",
    "    \n",
    "    foo = 42\n",
    "\n",
    "class B(A):\n",
    "    __constant_attrs__ = {\"bar\"}\n",
    "    \n",
    "    bar = \"hello there\"\n",
    "\n",
    "class C:\n",
    "    pass\n",
    "\n",
    "class D(C, B):\n",
    "    __constant_attrs__ = {\"gaz\"}\n",
    "    \n",
    "    gaz = -1\n",
    "\n",
    "d = D()\n",
    "\n",
    "d.__constants__"
   ]
  },
  {
   "cell_type": "code",
   "execution_count": 2,
   "id": "28385f6a",
   "metadata": {},
   "outputs": [
    {
     "data": {
      "text/plain": [
       "'hello there'"
      ]
     },
     "execution_count": 2,
     "metadata": {},
     "output_type": "execute_result"
    }
   ],
   "source": [
    "d.bar"
   ]
  },
  {
   "cell_type": "code",
   "execution_count": 3,
   "id": "c2839df1",
   "metadata": {},
   "outputs": [
    {
     "data": {
      "text/plain": [
       "'hello there'"
      ]
     },
     "execution_count": 3,
     "metadata": {},
     "output_type": "execute_result"
    }
   ],
   "source": [
    "D.bar"
   ]
  },
  {
   "cell_type": "code",
   "execution_count": 4,
   "id": "05bbc8c9",
   "metadata": {},
   "outputs": [
    {
     "name": "stdout",
     "output_type": "stream",
     "text": [
      "Error: class constant 'bar' of 'D' object cannot be modified.\n"
     ]
    }
   ],
   "source": [
    "try:\n",
    "    d.bar = \"hello\"\n",
    "except Exception as e:\n",
    "    print(f\"Error: {e.args[0]}\")"
   ]
  },
  {
   "cell_type": "code",
   "execution_count": 5,
   "id": "8a862418",
   "metadata": {},
   "outputs": [
    {
     "name": "stdout",
     "output_type": "stream",
     "text": [
      "Error: Cannot modify class constant 'D.bar'.\n"
     ]
    }
   ],
   "source": [
    "try:\n",
    "    D.bar = \"hello\"\n",
    "except Exception as e:\n",
    "    print(f\"Error: {e.args[0]}\")"
   ]
  },
  {
   "cell_type": "code",
   "execution_count": 6,
   "id": "a719e2ba",
   "metadata": {},
   "outputs": [
    {
     "name": "stdout",
     "output_type": "stream",
     "text": [
      "Error: Cannot modify class constant 'D.bar'.\n"
     ]
    }
   ],
   "source": [
    "try:\n",
    "    setattr(D, \"bar\", \"hello\")\n",
    "except Exception as e:\n",
    "    print(f\"Error: {e.args[0]}\")"
   ]
  },
  {
   "cell_type": "code",
   "execution_count": 7,
   "id": "c8fd9caf",
   "metadata": {},
   "outputs": [
    {
     "data": {
      "text/plain": [
       "'hello there'"
      ]
     },
     "execution_count": 7,
     "metadata": {},
     "output_type": "execute_result"
    }
   ],
   "source": [
    "d.bar"
   ]
  },
  {
   "cell_type": "code",
   "execution_count": 8,
   "id": "2cd17cad",
   "metadata": {},
   "outputs": [
    {
     "data": {
      "text/plain": [
       "'hello there'"
      ]
     },
     "execution_count": 8,
     "metadata": {},
     "output_type": "execute_result"
    }
   ],
   "source": [
    "D.bar"
   ]
  },
  {
   "cell_type": "code",
   "execution_count": 9,
   "id": "fb64fd87",
   "metadata": {},
   "outputs": [
    {
     "data": {
      "text/plain": [
       "{}"
      ]
     },
     "execution_count": 9,
     "metadata": {},
     "output_type": "execute_result"
    }
   ],
   "source": [
    "d.__dict__"
   ]
  },
  {
   "cell_type": "code",
   "execution_count": 10,
   "id": "18e12a00",
   "metadata": {},
   "outputs": [],
   "source": [
    "d.__dict__[\"bar\"] = \"hello\""
   ]
  },
  {
   "cell_type": "code",
   "execution_count": 11,
   "id": "e6fcb10f",
   "metadata": {},
   "outputs": [
    {
     "data": {
      "text/plain": [
       "'hello there'"
      ]
     },
     "execution_count": 11,
     "metadata": {},
     "output_type": "execute_result"
    }
   ],
   "source": [
    "d.bar"
   ]
  },
  {
   "cell_type": "code",
   "execution_count": 12,
   "id": "a3e3f739",
   "metadata": {},
   "outputs": [
    {
     "data": {
      "text/plain": [
       "-1"
      ]
     },
     "execution_count": 12,
     "metadata": {},
     "output_type": "execute_result"
    }
   ],
   "source": [
    "D.gaz"
   ]
  },
  {
   "cell_type": "code",
   "execution_count": 13,
   "id": "528c98d0",
   "metadata": {},
   "outputs": [
    {
     "name": "stdout",
     "output_type": "stream",
     "text": [
      "Error: class constant 'gaz' of 'D' object cannot be deleted.\n"
     ]
    }
   ],
   "source": [
    "try:\n",
    "    del d.gaz\n",
    "except Exception as e:\n",
    "    print(f\"Error: {e.args[0]}\")"
   ]
  },
  {
   "cell_type": "code",
   "execution_count": 14,
   "id": "b2e6013e",
   "metadata": {},
   "outputs": [
    {
     "name": "stdout",
     "output_type": "stream",
     "text": [
      "Error: Cannot delete class constant 'D.gaz'.\n"
     ]
    }
   ],
   "source": [
    "try:\n",
    "    del D.gaz\n",
    "except Exception as e:\n",
    "    print(f\"Error: {e.args[0]}\")"
   ]
  },
  {
   "cell_type": "code",
   "execution_count": 15,
   "id": "81634673",
   "metadata": {},
   "outputs": [
    {
     "name": "stdout",
     "output_type": "stream",
     "text": [
      "Error: class constant 'bar' of 'D' object cannot be deleted.\n"
     ]
    }
   ],
   "source": [
    "try:\n",
    "    del d.bar\n",
    "except Exception as e:\n",
    "    print(f\"Error: {e.args[0]}\")"
   ]
  },
  {
   "cell_type": "code",
   "execution_count": 16,
   "id": "4a7d8d17",
   "metadata": {},
   "outputs": [
    {
     "name": "stdout",
     "output_type": "stream",
     "text": [
      "Error: Cannot delete class constant 'D.bar'.\n"
     ]
    }
   ],
   "source": [
    "try:\n",
    "    del D.bar\n",
    "except Exception as e:\n",
    "    print(f\"Error: {e.args[0]}\")"
   ]
  },
  {
   "cell_type": "code",
   "execution_count": null,
   "id": "22781467",
   "metadata": {},
   "outputs": [],
   "source": []
  }
 ],
 "metadata": {
  "kernelspec": {
   "display_name": ".venv",
   "language": "python",
   "name": "python3"
  },
  "language_info": {
   "codemirror_mode": {
    "name": "ipython",
    "version": 3
   },
   "file_extension": ".py",
   "mimetype": "text/x-python",
   "name": "python",
   "nbconvert_exporter": "python",
   "pygments_lexer": "ipython3",
   "version": "3.13.2"
  }
 },
 "nbformat": 4,
 "nbformat_minor": 5
}
