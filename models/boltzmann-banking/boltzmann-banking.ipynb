{
 "cells": [
  {
   "cell_type": "markdown",
   "metadata": {},
   "source": [
    "# The Boltzmann Banking Model\n",
    "\n",
    "---\n",
    "\n",
    "## Overview\n",
    "\n",
    "This notebook explores a very simple agent-based model of economic activity. The model comprises many individuals that are able to \"spend\" money by giving some to another individual. They have no preferences as to whom they give their money: this is what makes this a \"Boltzmann\" model.\n",
    "\n",
    "For this model, \"money\" means \"bank liabilities\" in that each individual has an account at a bank with a balance. When one individual wants to give money to another, the giver simply instructs their bank to \"transfer money\" to the receiver by reducing their account balance and increasing the recipient's. These accounts are held as liabilities by the bank as a matter of accounting. The money in the accounts originates from loans issued by the banks and held by them as assets.\n"
   ]
  },
  {
   "cell_type": "markdown",
   "metadata": {},
   "source": [
    "\n",
    "---\n",
    "\n",
    "## Notebook Setup\n",
    "\n",
    "The model is called `BoltzmannBank` and is defined in `model.py`. In addition, we import some plotting functions defined in `econolab.plotting`."
   ]
  },
  {
   "cell_type": "code",
   "execution_count": null,
   "metadata": {},
   "outputs": [],
   "source": [
    "import econolab.plotting as plt\n",
    "\n",
    "from model import BoltzmannBanking"
   ]
  },
  {
   "cell_type": "markdown",
   "metadata": {},
   "source": [
    "\n",
    "---\n",
    "\n",
    "## 0. Model specifications\n",
    "\n",
    "### Agent Behavior\n",
    "\n",
    "On their step, individuals have several possible actions....\n",
    "\n",
    "On their step, banks have only one possible action. They can review loan applications. Each bank has a limit to how many applications it can review on a step. They work through their queue of received applications until the queue is exhausted or they reach their review limit.\n",
    "\n",
    "### Visualization\n",
    "\n",
    "...\n",
    "\n",
    "### Configuration Options\n",
    "\n",
    "The model can be configured through the following arguments:\n",
    "\n",
    "+ `num_individuals`: ...\n",
    "+ `num_banks`: ...\n",
    "+ ..."
   ]
  },
  {
   "cell_type": "markdown",
   "metadata": {},
   "source": [
    "\n",
    "---\n",
    "\n",
    "## 1. Base model: no loans\n",
    "\n",
    "Let's start with a simulation without any loans. In this model, individuals will be gifted a specifiable amount of money when they first open their account (during the initialization of the model). After that, the only way individuals can get more money is if they receive some from other individuals. The money supply will therefore be constant throughout the simulation."
   ]
  },
  {
   "cell_type": "code",
   "execution_count": null,
   "metadata": {},
   "outputs": [],
   "source": [
    "no_loans_model = BoltzmannBanking(\n",
    "    num_individuals = 1000,\n",
    "    init_gift = 5,\n",
    ")\n",
    "\n",
    "for _ in range(100):\n",
    "    no_loans_model.step()"
   ]
  },
  {
   "cell_type": "code",
   "execution_count": null,
   "metadata": {},
   "outputs": [],
   "source": [
    "plt.money_supply(no_loans_model)\n"
   ]
  },
  {
   "cell_type": "code",
   "execution_count": null,
   "metadata": {},
   "outputs": [],
   "source": [
    "plt.individual_wealth_inequality(no_loans_model, p_values=[0.5, 0.75, 0.9, 0.95, 0.99])"
   ]
  },
  {
   "cell_type": "code",
   "execution_count": null,
   "metadata": {},
   "outputs": [],
   "source": [
    "plt.individual_wealth_distribution(no_loans_model)"
   ]
  },
  {
   "cell_type": "code",
   "execution_count": null,
   "metadata": {},
   "outputs": [],
   "source": [
    "plt.individual_income_inequality(no_loans_model)"
   ]
  },
  {
   "cell_type": "code",
   "execution_count": null,
   "metadata": {},
   "outputs": [],
   "source": [
    "plt.individual_income_distribution(no_loans_model)"
   ]
  },
  {
   "cell_type": "markdown",
   "metadata": {},
   "source": [
    "\n",
    "---\n",
    "\n",
    "## 2. A model with loan applications\n",
    "\n",
    "Now let's allow the bank to issue loans and thereby increase the amount of money available. Each individual will have a personal debt limit that caps the amount that they are willing to borrow. Whenever they don't have enough money to give some away and they are beneath their debt limit, they will apply for a loan from the bank. On its turn, the bank will review some number of loans and will issue liabilities for those it approves. (For now, the bank will approve all loans.)\n",
    "\n",
    "The principal of the loans will be the minimum of the amount the individual needs for its spending, the amount of debt that they are able to take on, and a configurable maximum amount. The term (ie. duration) of the loan is also configurable."
   ]
  },
  {
   "cell_type": "code",
   "execution_count": null,
   "metadata": {},
   "outputs": [],
   "source": [
    "loan_options = [\n",
    "    {\n",
    "        \"term\": 50,\n",
    "    },\n",
    "]\n",
    "\n",
    "loans_model = BoltzmannBanking(\n",
    "    num_individuals = 1_000,\n",
    "    borrowing_limit = 5,\n",
    "    loan_review_limit = 50,\n",
    "    loan_options=loan_options,\n",
    ")\n",
    "\n",
    "for _ in range(100):\n",
    "    loans_model.step()"
   ]
  },
  {
   "cell_type": "code",
   "execution_count": null,
   "metadata": {},
   "outputs": [],
   "source": [
    "plt.money_supply(loans_model, period=1)"
   ]
  },
  {
   "cell_type": "code",
   "execution_count": null,
   "metadata": {},
   "outputs": [],
   "source": [
    "plt.individual_wealth_inequality(loans_model)"
   ]
  },
  {
   "cell_type": "code",
   "execution_count": null,
   "metadata": {},
   "outputs": [],
   "source": [
    "plt.individual_wealth_distribution(loans_model)"
   ]
  },
  {
   "cell_type": "code",
   "execution_count": null,
   "metadata": {},
   "outputs": [],
   "source": [
    "plt.individual_income_inequality(loans_model)"
   ]
  },
  {
   "cell_type": "code",
   "execution_count": null,
   "metadata": {},
   "outputs": [],
   "source": [
    "plt.individual_income_distribution(loans_model)"
   ]
  },
  {
   "cell_type": "markdown",
   "metadata": {},
   "source": [
    "\n",
    "---\n",
    "\n",
    "## 3. A model with multiple banks\n",
    "\n",
    "Now let's try to expand our model by incorporating multiple banks linked through a reserve bank."
   ]
  },
  {
   "cell_type": "code",
   "execution_count": null,
   "metadata": {},
   "outputs": [],
   "source": [
    "loan_options = [\n",
    "    {\n",
    "        \"term\": 50,\n",
    "    },\n",
    "]\n",
    "\n",
    "multibank_model = BoltzmannBanking(\n",
    "    num_individuals = 1_000,\n",
    "    num_banks=10,\n",
    "    borrowing_limit = 5,\n",
    "    loan_review_limit = 20,\n",
    "    loan_options=loan_options,\n",
    ")\n",
    "\n",
    "for _ in range(100):\n",
    "    multibank_model.step()"
   ]
  },
  {
   "cell_type": "code",
   "execution_count": null,
   "metadata": {},
   "outputs": [],
   "source": [
    "plt.money_supply(multibank_model, period=1)"
   ]
  },
  {
   "cell_type": "code",
   "execution_count": null,
   "metadata": {},
   "outputs": [],
   "source": [
    "plt.individual_wealth_inequality(multibank_model)"
   ]
  },
  {
   "cell_type": "code",
   "execution_count": null,
   "metadata": {},
   "outputs": [],
   "source": [
    "plt.individual_wealth_distribution(multibank_model)"
   ]
  },
  {
   "cell_type": "code",
   "execution_count": null,
   "metadata": {},
   "outputs": [],
   "source": [
    "plt.individual_income_inequality(multibank_model)"
   ]
  },
  {
   "cell_type": "code",
   "execution_count": null,
   "metadata": {},
   "outputs": [],
   "source": [
    "plt.individual_income_distribution(multibank_model)"
   ]
  },
  {
   "cell_type": "code",
   "execution_count": null,
   "metadata": {},
   "outputs": [],
   "source": []
  }
 ],
 "metadata": {
  "kernelspec": {
   "display_name": "Python (Boltzmann Banking)",
   "language": "python",
   "name": "boltzmann-banking"
  },
  "language_info": {
   "codemirror_mode": {
    "name": "ipython",
    "version": 3
   },
   "file_extension": ".py",
   "mimetype": "text/x-python",
   "name": "python",
   "nbconvert_exporter": "python",
   "pygments_lexer": "ipython3",
   "version": "3.13.2"
  }
 },
 "nbformat": 4,
 "nbformat_minor": 2
}
