{
 "cells": [
  {
   "cell_type": "code",
   "execution_count": 1,
   "id": "42afb530",
   "metadata": {},
   "outputs": [],
   "source": [
    "from new_model import BoltzmannBanking\n",
    "from new_agents import Individual, Bank"
   ]
  },
  {
   "cell_type": "code",
   "execution_count": 2,
   "id": "ef8e83e0",
   "metadata": {},
   "outputs": [],
   "source": [
    "model = BoltzmannBanking()"
   ]
  },
  {
   "cell_type": "code",
   "execution_count": 3,
   "id": "4307a737",
   "metadata": {},
   "outputs": [
    {
     "data": {
      "text/plain": [
       "1"
      ]
     },
     "execution_count": 3,
     "metadata": {},
     "output_type": "execute_result"
    }
   ],
   "source": [
    "model.agents_by_type[Individual][0].unique_id"
   ]
  }
 ],
 "metadata": {
  "kernelspec": {
   "display_name": ".venv",
   "language": "python",
   "name": "python3"
  },
  "language_info": {
   "codemirror_mode": {
    "name": "ipython",
    "version": 3
   },
   "file_extension": ".py",
   "mimetype": "text/x-python",
   "name": "python",
   "nbconvert_exporter": "python",
   "pygments_lexer": "ipython3",
   "version": "3.13.2"
  }
 },
 "nbformat": 4,
 "nbformat_minor": 5
}
