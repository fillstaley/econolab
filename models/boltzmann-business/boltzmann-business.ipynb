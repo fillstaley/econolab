{
 "cells": [
  {
   "cell_type": "markdown",
   "metadata": {},
   "source": [
    "# The Boltzmann Business Model\n",
    "\n",
    "---\n",
    "\n",
    "## Overview\n",
    "\n",
    "..."
   ]
  },
  {
   "cell_type": "markdown",
   "metadata": {},
   "source": [
    "\n",
    "---\n",
    "\n",
    "## Notebook Setup\n",
    "\n",
    "..."
   ]
  },
  {
   "cell_type": "code",
   "execution_count": 1,
   "metadata": {},
   "outputs": [],
   "source": [
    "import econolab.plotting as plt\n",
    "\n",
    "from model import BoltzmannBusiness"
   ]
  },
  {
   "cell_type": "markdown",
   "metadata": {},
   "source": [
    "\n",
    "---\n",
    "\n",
    "## 1. Base Model\n",
    "\n",
    "..."
   ]
  },
  {
   "cell_type": "code",
   "execution_count": 2,
   "metadata": {},
   "outputs": [],
   "source": [
    "base_model = BoltzmannBusiness(\n",
    "    num_individuals=10,\n",
    "    num_businesses=1,\n",
    "    num_banks=1,\n",
    ")\n",
    "\n",
    "for _ in range(100):\n",
    "    base_model.step()"
   ]
  },
  {
   "cell_type": "code",
   "execution_count": 3,
   "metadata": {},
   "outputs": [],
   "source": [
    "# plt.money_supply(base_model)"
   ]
  },
  {
   "cell_type": "code",
   "execution_count": 4,
   "metadata": {},
   "outputs": [
    {
     "name": "stdout",
     "output_type": "stream",
     "text": [
      "[]\n",
      "[]\n",
      "[]\n",
      "[]\n",
      "[]\n",
      "[]\n",
      "[]\n",
      "[]\n",
      "[]\n",
      "[]\n"
     ]
    }
   ],
   "source": [
    "for a in base_model.individuals:\n",
    "    print(a._open_employment_applications)"
   ]
  },
  {
   "cell_type": "code",
   "execution_count": 5,
   "metadata": {},
   "outputs": [
    {
     "data": {
      "text/plain": [
       "{<agents.Individual at 0x11e4ca3f0>: <employment.EmploymentContract at 0x11e4c34d0>,\n",
       " <agents.Individual at 0x11e4c2ba0>: <employment.EmploymentContract at 0x11e4eead0>,\n",
       " <agents.Individual at 0x11e4d69f0>: <employment.EmploymentContract at 0x11e4eec10>,\n",
       " <agents.Individual at 0x10820b9d0>: <employment.EmploymentContract at 0x11e4cad70>,\n",
       " <agents.Individual at 0x10810e7a0>: <employment.EmploymentContract at 0x11e4caea0>,\n",
       " <agents.Individual at 0x11e510e20>: <employment.EmploymentContract at 0x11e4d6450>,\n",
       " <agents.Individual at 0x11e4ca2c0>: <employment.EmploymentContract at 0x11e511bf0>,\n",
       " <agents.Individual at 0x11e1da210>: <employment.EmploymentContract at 0x11e511d00>,\n",
       " <agents.Individual at 0x107e91750>: <employment.EmploymentContract at 0x11e4e7050>,\n",
       " <agents.Individual at 0x11e4e6950>: <employment.EmploymentContract at 0x11e4e7150>}"
      ]
     },
     "execution_count": 5,
     "metadata": {},
     "output_type": "execute_result"
    }
   ],
   "source": [
    "base_model.businesses[0].payroll"
   ]
  },
  {
   "cell_type": "code",
   "execution_count": null,
   "metadata": {},
   "outputs": [],
   "source": []
  }
 ],
 "metadata": {
  "kernelspec": {
   "display_name": "Python (Boltzmann Business)",
   "language": "python",
   "name": "boltzmann-business"
  },
  "language_info": {
   "codemirror_mode": {
    "name": "ipython",
    "version": 3
   },
   "file_extension": ".py",
   "mimetype": "text/x-python",
   "name": "python",
   "nbconvert_exporter": "python",
   "pygments_lexer": "ipython3",
   "version": "3.13.2"
  }
 },
 "nbformat": 4,
 "nbformat_minor": 2
}
