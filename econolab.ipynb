{
 "cells": [
  {
   "cell_type": "code",
   "execution_count": 1,
   "metadata": {},
   "outputs": [],
   "source": [
    "import logging\n",
    "\n",
    "from econolab.config import setup_logging\n",
    "setup_logging(default_level=logging.DEBUG)\n",
    "\n",
    "from econolab import temporal"
   ]
  },
  {
   "cell_type": "code",
   "execution_count": 2,
   "metadata": {},
   "outputs": [],
   "source": [
    "class Model:\n",
    "    def __init__(self, steps: int = 0) -> None:\n",
    "        self.steps = steps\n",
    "\n",
    "class Agent:\n",
    "    def __init__(self, model: Model) -> None:\n",
    "        self.model = model\n"
   ]
  },
  {
   "cell_type": "code",
   "execution_count": 3,
   "metadata": {},
   "outputs": [
    {
     "name": "stderr",
     "output_type": "stream",
     "text": [
      "2025-03-25 18:07:23,852 [DEBUG] econolab.temporal.calendar: New calendar created; it belongs to the model <__main__.Model object at 0x118113230>\n"
     ]
    }
   ],
   "source": [
    "model = Model(steps=0)\n",
    "\n",
    "calendar = temporal.Calendar(model)"
   ]
  },
  {
   "cell_type": "code",
   "execution_count": 4,
   "metadata": {},
   "outputs": [
    {
     "name": "stderr",
     "output_type": "stream",
     "text": [
      "2025-03-25 18:07:23,860 [INFO] econolab.temporal.calendar: Updated start date; now the calendar begins on year 1-1-1\n",
      "2025-03-25 18:07:23,864 [INFO] econolab.temporal.calendar: Updated steps-to-days ratio; now 3 steps equals 2 days\n"
     ]
    },
    {
     "data": {
      "text/plain": [
       "EconoDate(1, 1, 1)"
      ]
     },
     "execution_count": 4,
     "metadata": {},
     "output_type": "execute_result"
    }
   ],
   "source": [
    "calendar.set_start_date(1, 1, 1)\n",
    "calendar.set_steps_days_ratio(3, 2)\n",
    "\n",
    "calendar.today()"
   ]
  },
  {
   "cell_type": "code",
   "execution_count": 5,
   "metadata": {},
   "outputs": [
    {
     "data": {
      "text/plain": [
       "EconoDate(1, 1, 9)"
      ]
     },
     "execution_count": 5,
     "metadata": {},
     "output_type": "execute_result"
    }
   ],
   "source": [
    "model.steps = 12\n",
    "\n",
    "calendar.today()"
   ]
  },
  {
   "cell_type": "code",
   "execution_count": 6,
   "metadata": {},
   "outputs": [
    {
     "data": {
      "text/plain": [
       "2"
      ]
     },
     "execution_count": 6,
     "metadata": {},
     "output_type": "execute_result"
    }
   ],
   "source": [
    "calendar.convert_steps_to_days(3)"
   ]
  },
  {
   "cell_type": "code",
   "execution_count": 7,
   "metadata": {},
   "outputs": [
    {
     "data": {
      "text/plain": [
       "-2"
      ]
     },
     "execution_count": 7,
     "metadata": {},
     "output_type": "execute_result"
    }
   ],
   "source": [
    "calendar.convert_steps_to_days(-3)"
   ]
  },
  {
   "cell_type": "code",
   "execution_count": null,
   "metadata": {},
   "outputs": [],
   "source": []
  }
 ],
 "metadata": {
  "kernelspec": {
   "display_name": ".venv",
   "language": "python",
   "name": "python3"
  },
  "language_info": {
   "codemirror_mode": {
    "name": "ipython",
    "version": 3
   },
   "file_extension": ".py",
   "mimetype": "text/x-python",
   "name": "python",
   "nbconvert_exporter": "python",
   "pygments_lexer": "ipython3",
   "version": "3.13.2"
  }
 },
 "nbformat": 4,
 "nbformat_minor": 2
}
